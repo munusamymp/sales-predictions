{
  "nbformat": 4,
  "nbformat_minor": 0,
  "metadata": {
    "colab": {
      "name": "sales_predictions.ipynb",
      "provenance": [],
      "collapsed_sections": []
    },
    "kernelspec": {
      "name": "python3",
      "display_name": "Python 3"
    },
    "language_info": {
      "name": "python"
    }
  },
  "cells": [
    {
      "cell_type": "code",
      "metadata": {
        "colab": {
          "base_uri": "https://localhost:8080/",
          "height": 640
        },
        "id": "GNfvP3DFoJBp",
        "outputId": "9284a912-57f0-4766-c540-7d3228a2eb65"
      },
      "source": [
        "import pandas as pd\n",
        "import matplotlib.pyplot as plt\n",
        "import seaborn as sns\n",
        "import numpy as np\n",
        "\n",
        "filename = '/content/drive/MyDrive/1CodingDojo/Week2/sales_predictions.csv'\n",
        "\n",
        "df = pd.read_csv(filename, index_col='Item_Identifier')\n",
        "df"
      ],
      "execution_count": 140,
      "outputs": [
        {
          "output_type": "execute_result",
          "data": {
            "text/html": [
              "<div>\n",
              "<style scoped>\n",
              "    .dataframe tbody tr th:only-of-type {\n",
              "        vertical-align: middle;\n",
              "    }\n",
              "\n",
              "    .dataframe tbody tr th {\n",
              "        vertical-align: top;\n",
              "    }\n",
              "\n",
              "    .dataframe thead th {\n",
              "        text-align: right;\n",
              "    }\n",
              "</style>\n",
              "<table border=\"1\" class=\"dataframe\">\n",
              "  <thead>\n",
              "    <tr style=\"text-align: right;\">\n",
              "      <th></th>\n",
              "      <th>Item_Weight</th>\n",
              "      <th>Item_Fat_Content</th>\n",
              "      <th>Item_Visibility</th>\n",
              "      <th>Item_Type</th>\n",
              "      <th>Item_MRP</th>\n",
              "      <th>Outlet_Identifier</th>\n",
              "      <th>Outlet_Establishment_Year</th>\n",
              "      <th>Outlet_Size</th>\n",
              "      <th>Outlet_Location_Type</th>\n",
              "      <th>Outlet_Type</th>\n",
              "      <th>Item_Outlet_Sales</th>\n",
              "    </tr>\n",
              "    <tr>\n",
              "      <th>Item_Identifier</th>\n",
              "      <th></th>\n",
              "      <th></th>\n",
              "      <th></th>\n",
              "      <th></th>\n",
              "      <th></th>\n",
              "      <th></th>\n",
              "      <th></th>\n",
              "      <th></th>\n",
              "      <th></th>\n",
              "      <th></th>\n",
              "      <th></th>\n",
              "    </tr>\n",
              "  </thead>\n",
              "  <tbody>\n",
              "    <tr>\n",
              "      <th>FDA15</th>\n",
              "      <td>9.300</td>\n",
              "      <td>Low Fat</td>\n",
              "      <td>0.016047</td>\n",
              "      <td>Dairy</td>\n",
              "      <td>249.8092</td>\n",
              "      <td>OUT049</td>\n",
              "      <td>1999</td>\n",
              "      <td>Medium</td>\n",
              "      <td>Tier 1</td>\n",
              "      <td>Supermarket Type1</td>\n",
              "      <td>3735.1380</td>\n",
              "    </tr>\n",
              "    <tr>\n",
              "      <th>DRC01</th>\n",
              "      <td>5.920</td>\n",
              "      <td>Regular</td>\n",
              "      <td>0.019278</td>\n",
              "      <td>Soft Drinks</td>\n",
              "      <td>48.2692</td>\n",
              "      <td>OUT018</td>\n",
              "      <td>2009</td>\n",
              "      <td>Medium</td>\n",
              "      <td>Tier 3</td>\n",
              "      <td>Supermarket Type2</td>\n",
              "      <td>443.4228</td>\n",
              "    </tr>\n",
              "    <tr>\n",
              "      <th>FDN15</th>\n",
              "      <td>17.500</td>\n",
              "      <td>Low Fat</td>\n",
              "      <td>0.016760</td>\n",
              "      <td>Meat</td>\n",
              "      <td>141.6180</td>\n",
              "      <td>OUT049</td>\n",
              "      <td>1999</td>\n",
              "      <td>Medium</td>\n",
              "      <td>Tier 1</td>\n",
              "      <td>Supermarket Type1</td>\n",
              "      <td>2097.2700</td>\n",
              "    </tr>\n",
              "    <tr>\n",
              "      <th>FDX07</th>\n",
              "      <td>19.200</td>\n",
              "      <td>Regular</td>\n",
              "      <td>0.000000</td>\n",
              "      <td>Fruits and Vegetables</td>\n",
              "      <td>182.0950</td>\n",
              "      <td>OUT010</td>\n",
              "      <td>1998</td>\n",
              "      <td>NaN</td>\n",
              "      <td>Tier 3</td>\n",
              "      <td>Grocery Store</td>\n",
              "      <td>732.3800</td>\n",
              "    </tr>\n",
              "    <tr>\n",
              "      <th>NCD19</th>\n",
              "      <td>8.930</td>\n",
              "      <td>Low Fat</td>\n",
              "      <td>0.000000</td>\n",
              "      <td>Household</td>\n",
              "      <td>53.8614</td>\n",
              "      <td>OUT013</td>\n",
              "      <td>1987</td>\n",
              "      <td>High</td>\n",
              "      <td>Tier 3</td>\n",
              "      <td>Supermarket Type1</td>\n",
              "      <td>994.7052</td>\n",
              "    </tr>\n",
              "    <tr>\n",
              "      <th>...</th>\n",
              "      <td>...</td>\n",
              "      <td>...</td>\n",
              "      <td>...</td>\n",
              "      <td>...</td>\n",
              "      <td>...</td>\n",
              "      <td>...</td>\n",
              "      <td>...</td>\n",
              "      <td>...</td>\n",
              "      <td>...</td>\n",
              "      <td>...</td>\n",
              "      <td>...</td>\n",
              "    </tr>\n",
              "    <tr>\n",
              "      <th>FDF22</th>\n",
              "      <td>6.865</td>\n",
              "      <td>Low Fat</td>\n",
              "      <td>0.056783</td>\n",
              "      <td>Snack Foods</td>\n",
              "      <td>214.5218</td>\n",
              "      <td>OUT013</td>\n",
              "      <td>1987</td>\n",
              "      <td>High</td>\n",
              "      <td>Tier 3</td>\n",
              "      <td>Supermarket Type1</td>\n",
              "      <td>2778.3834</td>\n",
              "    </tr>\n",
              "    <tr>\n",
              "      <th>FDS36</th>\n",
              "      <td>8.380</td>\n",
              "      <td>Regular</td>\n",
              "      <td>0.046982</td>\n",
              "      <td>Baking Goods</td>\n",
              "      <td>108.1570</td>\n",
              "      <td>OUT045</td>\n",
              "      <td>2002</td>\n",
              "      <td>NaN</td>\n",
              "      <td>Tier 2</td>\n",
              "      <td>Supermarket Type1</td>\n",
              "      <td>549.2850</td>\n",
              "    </tr>\n",
              "    <tr>\n",
              "      <th>NCJ29</th>\n",
              "      <td>10.600</td>\n",
              "      <td>Low Fat</td>\n",
              "      <td>0.035186</td>\n",
              "      <td>Health and Hygiene</td>\n",
              "      <td>85.1224</td>\n",
              "      <td>OUT035</td>\n",
              "      <td>2004</td>\n",
              "      <td>Small</td>\n",
              "      <td>Tier 2</td>\n",
              "      <td>Supermarket Type1</td>\n",
              "      <td>1193.1136</td>\n",
              "    </tr>\n",
              "    <tr>\n",
              "      <th>FDN46</th>\n",
              "      <td>7.210</td>\n",
              "      <td>Regular</td>\n",
              "      <td>0.145221</td>\n",
              "      <td>Snack Foods</td>\n",
              "      <td>103.1332</td>\n",
              "      <td>OUT018</td>\n",
              "      <td>2009</td>\n",
              "      <td>Medium</td>\n",
              "      <td>Tier 3</td>\n",
              "      <td>Supermarket Type2</td>\n",
              "      <td>1845.5976</td>\n",
              "    </tr>\n",
              "    <tr>\n",
              "      <th>DRG01</th>\n",
              "      <td>14.800</td>\n",
              "      <td>Low Fat</td>\n",
              "      <td>0.044878</td>\n",
              "      <td>Soft Drinks</td>\n",
              "      <td>75.4670</td>\n",
              "      <td>OUT046</td>\n",
              "      <td>1997</td>\n",
              "      <td>Small</td>\n",
              "      <td>Tier 1</td>\n",
              "      <td>Supermarket Type1</td>\n",
              "      <td>765.6700</td>\n",
              "    </tr>\n",
              "  </tbody>\n",
              "</table>\n",
              "<p>8523 rows × 11 columns</p>\n",
              "</div>"
            ],
            "text/plain": [
              "                 Item_Weight  ... Item_Outlet_Sales\n",
              "Item_Identifier               ...                  \n",
              "FDA15                  9.300  ...         3735.1380\n",
              "DRC01                  5.920  ...          443.4228\n",
              "FDN15                 17.500  ...         2097.2700\n",
              "FDX07                 19.200  ...          732.3800\n",
              "NCD19                  8.930  ...          994.7052\n",
              "...                      ...  ...               ...\n",
              "FDF22                  6.865  ...         2778.3834\n",
              "FDS36                  8.380  ...          549.2850\n",
              "NCJ29                 10.600  ...         1193.1136\n",
              "FDN46                  7.210  ...         1845.5976\n",
              "DRG01                 14.800  ...          765.6700\n",
              "\n",
              "[8523 rows x 11 columns]"
            ]
          },
          "metadata": {
            "tags": []
          },
          "execution_count": 140
        }
      ]
    },
    {
      "cell_type": "code",
      "metadata": {
        "colab": {
          "base_uri": "https://localhost:8080/"
        },
        "id": "t47HqgXkoe0b",
        "outputId": "4dc82e35-9124-4c8b-8307-84bbbe06d72f"
      },
      "source": [
        "df.info()"
      ],
      "execution_count": 141,
      "outputs": [
        {
          "output_type": "stream",
          "text": [
            "<class 'pandas.core.frame.DataFrame'>\n",
            "Index: 8523 entries, FDA15 to DRG01\n",
            "Data columns (total 11 columns):\n",
            " #   Column                     Non-Null Count  Dtype  \n",
            "---  ------                     --------------  -----  \n",
            " 0   Item_Weight                7060 non-null   float64\n",
            " 1   Item_Fat_Content           8523 non-null   object \n",
            " 2   Item_Visibility            8523 non-null   float64\n",
            " 3   Item_Type                  8523 non-null   object \n",
            " 4   Item_MRP                   8523 non-null   float64\n",
            " 5   Outlet_Identifier          8523 non-null   object \n",
            " 6   Outlet_Establishment_Year  8523 non-null   int64  \n",
            " 7   Outlet_Size                6113 non-null   object \n",
            " 8   Outlet_Location_Type       8523 non-null   object \n",
            " 9   Outlet_Type                8523 non-null   object \n",
            " 10  Item_Outlet_Sales          8523 non-null   float64\n",
            "dtypes: float64(4), int64(1), object(6)\n",
            "memory usage: 799.0+ KB\n"
          ],
          "name": "stdout"
        }
      ]
    },
    {
      "cell_type": "code",
      "metadata": {
        "colab": {
          "base_uri": "https://localhost:8080/",
          "height": 640
        },
        "id": "ivKao6-Hz01P",
        "outputId": "dbd6217b-b510-494d-debb-bac487ce2e0c"
      },
      "source": [
        "df['Outlet_Size'] = df.loc[:, 'Outlet_Size'].fillna(method='bfill')\n",
        "df"
      ],
      "execution_count": 142,
      "outputs": [
        {
          "output_type": "execute_result",
          "data": {
            "text/html": [
              "<div>\n",
              "<style scoped>\n",
              "    .dataframe tbody tr th:only-of-type {\n",
              "        vertical-align: middle;\n",
              "    }\n",
              "\n",
              "    .dataframe tbody tr th {\n",
              "        vertical-align: top;\n",
              "    }\n",
              "\n",
              "    .dataframe thead th {\n",
              "        text-align: right;\n",
              "    }\n",
              "</style>\n",
              "<table border=\"1\" class=\"dataframe\">\n",
              "  <thead>\n",
              "    <tr style=\"text-align: right;\">\n",
              "      <th></th>\n",
              "      <th>Item_Weight</th>\n",
              "      <th>Item_Fat_Content</th>\n",
              "      <th>Item_Visibility</th>\n",
              "      <th>Item_Type</th>\n",
              "      <th>Item_MRP</th>\n",
              "      <th>Outlet_Identifier</th>\n",
              "      <th>Outlet_Establishment_Year</th>\n",
              "      <th>Outlet_Size</th>\n",
              "      <th>Outlet_Location_Type</th>\n",
              "      <th>Outlet_Type</th>\n",
              "      <th>Item_Outlet_Sales</th>\n",
              "    </tr>\n",
              "    <tr>\n",
              "      <th>Item_Identifier</th>\n",
              "      <th></th>\n",
              "      <th></th>\n",
              "      <th></th>\n",
              "      <th></th>\n",
              "      <th></th>\n",
              "      <th></th>\n",
              "      <th></th>\n",
              "      <th></th>\n",
              "      <th></th>\n",
              "      <th></th>\n",
              "      <th></th>\n",
              "    </tr>\n",
              "  </thead>\n",
              "  <tbody>\n",
              "    <tr>\n",
              "      <th>FDA15</th>\n",
              "      <td>9.300</td>\n",
              "      <td>Low Fat</td>\n",
              "      <td>0.016047</td>\n",
              "      <td>Dairy</td>\n",
              "      <td>249.8092</td>\n",
              "      <td>OUT049</td>\n",
              "      <td>1999</td>\n",
              "      <td>Medium</td>\n",
              "      <td>Tier 1</td>\n",
              "      <td>Supermarket Type1</td>\n",
              "      <td>3735.1380</td>\n",
              "    </tr>\n",
              "    <tr>\n",
              "      <th>DRC01</th>\n",
              "      <td>5.920</td>\n",
              "      <td>Regular</td>\n",
              "      <td>0.019278</td>\n",
              "      <td>Soft Drinks</td>\n",
              "      <td>48.2692</td>\n",
              "      <td>OUT018</td>\n",
              "      <td>2009</td>\n",
              "      <td>Medium</td>\n",
              "      <td>Tier 3</td>\n",
              "      <td>Supermarket Type2</td>\n",
              "      <td>443.4228</td>\n",
              "    </tr>\n",
              "    <tr>\n",
              "      <th>FDN15</th>\n",
              "      <td>17.500</td>\n",
              "      <td>Low Fat</td>\n",
              "      <td>0.016760</td>\n",
              "      <td>Meat</td>\n",
              "      <td>141.6180</td>\n",
              "      <td>OUT049</td>\n",
              "      <td>1999</td>\n",
              "      <td>Medium</td>\n",
              "      <td>Tier 1</td>\n",
              "      <td>Supermarket Type1</td>\n",
              "      <td>2097.2700</td>\n",
              "    </tr>\n",
              "    <tr>\n",
              "      <th>FDX07</th>\n",
              "      <td>19.200</td>\n",
              "      <td>Regular</td>\n",
              "      <td>0.000000</td>\n",
              "      <td>Fruits and Vegetables</td>\n",
              "      <td>182.0950</td>\n",
              "      <td>OUT010</td>\n",
              "      <td>1998</td>\n",
              "      <td>High</td>\n",
              "      <td>Tier 3</td>\n",
              "      <td>Grocery Store</td>\n",
              "      <td>732.3800</td>\n",
              "    </tr>\n",
              "    <tr>\n",
              "      <th>NCD19</th>\n",
              "      <td>8.930</td>\n",
              "      <td>Low Fat</td>\n",
              "      <td>0.000000</td>\n",
              "      <td>Household</td>\n",
              "      <td>53.8614</td>\n",
              "      <td>OUT013</td>\n",
              "      <td>1987</td>\n",
              "      <td>High</td>\n",
              "      <td>Tier 3</td>\n",
              "      <td>Supermarket Type1</td>\n",
              "      <td>994.7052</td>\n",
              "    </tr>\n",
              "    <tr>\n",
              "      <th>...</th>\n",
              "      <td>...</td>\n",
              "      <td>...</td>\n",
              "      <td>...</td>\n",
              "      <td>...</td>\n",
              "      <td>...</td>\n",
              "      <td>...</td>\n",
              "      <td>...</td>\n",
              "      <td>...</td>\n",
              "      <td>...</td>\n",
              "      <td>...</td>\n",
              "      <td>...</td>\n",
              "    </tr>\n",
              "    <tr>\n",
              "      <th>FDF22</th>\n",
              "      <td>6.865</td>\n",
              "      <td>Low Fat</td>\n",
              "      <td>0.056783</td>\n",
              "      <td>Snack Foods</td>\n",
              "      <td>214.5218</td>\n",
              "      <td>OUT013</td>\n",
              "      <td>1987</td>\n",
              "      <td>High</td>\n",
              "      <td>Tier 3</td>\n",
              "      <td>Supermarket Type1</td>\n",
              "      <td>2778.3834</td>\n",
              "    </tr>\n",
              "    <tr>\n",
              "      <th>FDS36</th>\n",
              "      <td>8.380</td>\n",
              "      <td>Regular</td>\n",
              "      <td>0.046982</td>\n",
              "      <td>Baking Goods</td>\n",
              "      <td>108.1570</td>\n",
              "      <td>OUT045</td>\n",
              "      <td>2002</td>\n",
              "      <td>Small</td>\n",
              "      <td>Tier 2</td>\n",
              "      <td>Supermarket Type1</td>\n",
              "      <td>549.2850</td>\n",
              "    </tr>\n",
              "    <tr>\n",
              "      <th>NCJ29</th>\n",
              "      <td>10.600</td>\n",
              "      <td>Low Fat</td>\n",
              "      <td>0.035186</td>\n",
              "      <td>Health and Hygiene</td>\n",
              "      <td>85.1224</td>\n",
              "      <td>OUT035</td>\n",
              "      <td>2004</td>\n",
              "      <td>Small</td>\n",
              "      <td>Tier 2</td>\n",
              "      <td>Supermarket Type1</td>\n",
              "      <td>1193.1136</td>\n",
              "    </tr>\n",
              "    <tr>\n",
              "      <th>FDN46</th>\n",
              "      <td>7.210</td>\n",
              "      <td>Regular</td>\n",
              "      <td>0.145221</td>\n",
              "      <td>Snack Foods</td>\n",
              "      <td>103.1332</td>\n",
              "      <td>OUT018</td>\n",
              "      <td>2009</td>\n",
              "      <td>Medium</td>\n",
              "      <td>Tier 3</td>\n",
              "      <td>Supermarket Type2</td>\n",
              "      <td>1845.5976</td>\n",
              "    </tr>\n",
              "    <tr>\n",
              "      <th>DRG01</th>\n",
              "      <td>14.800</td>\n",
              "      <td>Low Fat</td>\n",
              "      <td>0.044878</td>\n",
              "      <td>Soft Drinks</td>\n",
              "      <td>75.4670</td>\n",
              "      <td>OUT046</td>\n",
              "      <td>1997</td>\n",
              "      <td>Small</td>\n",
              "      <td>Tier 1</td>\n",
              "      <td>Supermarket Type1</td>\n",
              "      <td>765.6700</td>\n",
              "    </tr>\n",
              "  </tbody>\n",
              "</table>\n",
              "<p>8523 rows × 11 columns</p>\n",
              "</div>"
            ],
            "text/plain": [
              "                 Item_Weight  ... Item_Outlet_Sales\n",
              "Item_Identifier               ...                  \n",
              "FDA15                  9.300  ...         3735.1380\n",
              "DRC01                  5.920  ...          443.4228\n",
              "FDN15                 17.500  ...         2097.2700\n",
              "FDX07                 19.200  ...          732.3800\n",
              "NCD19                  8.930  ...          994.7052\n",
              "...                      ...  ...               ...\n",
              "FDF22                  6.865  ...         2778.3834\n",
              "FDS36                  8.380  ...          549.2850\n",
              "NCJ29                 10.600  ...         1193.1136\n",
              "FDN46                  7.210  ...         1845.5976\n",
              "DRG01                 14.800  ...          765.6700\n",
              "\n",
              "[8523 rows x 11 columns]"
            ]
          },
          "metadata": {
            "tags": []
          },
          "execution_count": 142
        }
      ]
    },
    {
      "cell_type": "code",
      "metadata": {
        "colab": {
          "base_uri": "https://localhost:8080/"
        },
        "id": "TOom6SERYJzp",
        "outputId": "dff739a2-4578-428b-aa43-c02bc2c9ed5b"
      },
      "source": [
        "df = df.dropna(how = 'any')\n",
        "df.info()"
      ],
      "execution_count": 143,
      "outputs": [
        {
          "output_type": "stream",
          "text": [
            "<class 'pandas.core.frame.DataFrame'>\n",
            "Index: 7060 entries, FDA15 to DRG01\n",
            "Data columns (total 11 columns):\n",
            " #   Column                     Non-Null Count  Dtype  \n",
            "---  ------                     --------------  -----  \n",
            " 0   Item_Weight                7060 non-null   float64\n",
            " 1   Item_Fat_Content           7060 non-null   object \n",
            " 2   Item_Visibility            7060 non-null   float64\n",
            " 3   Item_Type                  7060 non-null   object \n",
            " 4   Item_MRP                   7060 non-null   float64\n",
            " 5   Outlet_Identifier          7060 non-null   object \n",
            " 6   Outlet_Establishment_Year  7060 non-null   int64  \n",
            " 7   Outlet_Size                7060 non-null   object \n",
            " 8   Outlet_Location_Type       7060 non-null   object \n",
            " 9   Outlet_Type                7060 non-null   object \n",
            " 10  Item_Outlet_Sales          7060 non-null   float64\n",
            "dtypes: float64(4), int64(1), object(6)\n",
            "memory usage: 661.9+ KB\n"
          ],
          "name": "stdout"
        }
      ]
    },
    {
      "cell_type": "code",
      "metadata": {
        "colab": {
          "base_uri": "https://localhost:8080/",
          "height": 576
        },
        "id": "hTOo77cSol7a",
        "outputId": "2a76e01e-b1ee-4ff0-e582-cfdb9c0c140b"
      },
      "source": [
        "df.groupby('Item_Type')[['Item_MRP']].sum()"
      ],
      "execution_count": 48,
      "outputs": [
        {
          "output_type": "execute_result",
          "data": {
            "text/html": [
              "<div>\n",
              "<style scoped>\n",
              "    .dataframe tbody tr th:only-of-type {\n",
              "        vertical-align: middle;\n",
              "    }\n",
              "\n",
              "    .dataframe tbody tr th {\n",
              "        vertical-align: top;\n",
              "    }\n",
              "\n",
              "    .dataframe thead th {\n",
              "        text-align: right;\n",
              "    }\n",
              "</style>\n",
              "<table border=\"1\" class=\"dataframe\">\n",
              "  <thead>\n",
              "    <tr style=\"text-align: right;\">\n",
              "      <th></th>\n",
              "      <th>Item_MRP</th>\n",
              "    </tr>\n",
              "    <tr>\n",
              "      <th>Item_Type</th>\n",
              "      <th></th>\n",
              "    </tr>\n",
              "  </thead>\n",
              "  <tbody>\n",
              "    <tr>\n",
              "      <th>Baking Goods</th>\n",
              "      <td>67588.1130</td>\n",
              "    </tr>\n",
              "    <tr>\n",
              "      <th>Breads</th>\n",
              "      <td>28663.1848</td>\n",
              "    </tr>\n",
              "    <tr>\n",
              "      <th>Breakfast</th>\n",
              "      <td>12696.1874</td>\n",
              "    </tr>\n",
              "    <tr>\n",
              "      <th>Canned</th>\n",
              "      <td>75052.9980</td>\n",
              "    </tr>\n",
              "    <tr>\n",
              "      <th>Dairy</th>\n",
              "      <td>84526.4948</td>\n",
              "    </tr>\n",
              "    <tr>\n",
              "      <th>Frozen Foods</th>\n",
              "      <td>99961.8818</td>\n",
              "    </tr>\n",
              "    <tr>\n",
              "      <th>Fruits and Vegetables</th>\n",
              "      <td>147188.9632</td>\n",
              "    </tr>\n",
              "    <tr>\n",
              "      <th>Hard Drinks</th>\n",
              "      <td>25261.6174</td>\n",
              "    </tr>\n",
              "    <tr>\n",
              "      <th>Health and Hygiene</th>\n",
              "      <td>56383.8020</td>\n",
              "    </tr>\n",
              "    <tr>\n",
              "      <th>Household</th>\n",
              "      <td>113210.1420</td>\n",
              "    </tr>\n",
              "    <tr>\n",
              "      <th>Meat</th>\n",
              "      <td>47159.9010</td>\n",
              "    </tr>\n",
              "    <tr>\n",
              "      <th>Others</th>\n",
              "      <td>18624.5970</td>\n",
              "    </tr>\n",
              "    <tr>\n",
              "      <th>Seafood</th>\n",
              "      <td>7397.5644</td>\n",
              "    </tr>\n",
              "    <tr>\n",
              "      <th>Snack Foods</th>\n",
              "      <td>144949.1280</td>\n",
              "    </tr>\n",
              "    <tr>\n",
              "      <th>Soft Drinks</th>\n",
              "      <td>49294.6718</td>\n",
              "    </tr>\n",
              "    <tr>\n",
              "      <th>Starchy Foods</th>\n",
              "      <td>19199.9772</td>\n",
              "    </tr>\n",
              "  </tbody>\n",
              "</table>\n",
              "</div>"
            ],
            "text/plain": [
              "                          Item_MRP\n",
              "Item_Type                         \n",
              "Baking Goods            67588.1130\n",
              "Breads                  28663.1848\n",
              "Breakfast               12696.1874\n",
              "Canned                  75052.9980\n",
              "Dairy                   84526.4948\n",
              "Frozen Foods            99961.8818\n",
              "Fruits and Vegetables  147188.9632\n",
              "Hard Drinks             25261.6174\n",
              "Health and Hygiene      56383.8020\n",
              "Household              113210.1420\n",
              "Meat                    47159.9010\n",
              "Others                  18624.5970\n",
              "Seafood                  7397.5644\n",
              "Snack Foods            144949.1280\n",
              "Soft Drinks             49294.6718\n",
              "Starchy Foods           19199.9772"
            ]
          },
          "metadata": {
            "tags": []
          },
          "execution_count": 48
        }
      ]
    },
    {
      "cell_type": "code",
      "metadata": {
        "colab": {
          "base_uri": "https://localhost:8080/",
          "height": 576
        },
        "id": "cM1-YR6vpI2X",
        "outputId": "32213250-9ea0-4346-8182-0e76dec98e45"
      },
      "source": [
        "df.groupby('Item_Type')[['Item_Fat_Content']].count()"
      ],
      "execution_count": 49,
      "outputs": [
        {
          "output_type": "execute_result",
          "data": {
            "text/html": [
              "<div>\n",
              "<style scoped>\n",
              "    .dataframe tbody tr th:only-of-type {\n",
              "        vertical-align: middle;\n",
              "    }\n",
              "\n",
              "    .dataframe tbody tr th {\n",
              "        vertical-align: top;\n",
              "    }\n",
              "\n",
              "    .dataframe thead th {\n",
              "        text-align: right;\n",
              "    }\n",
              "</style>\n",
              "<table border=\"1\" class=\"dataframe\">\n",
              "  <thead>\n",
              "    <tr style=\"text-align: right;\">\n",
              "      <th></th>\n",
              "      <th>Item_Fat_Content</th>\n",
              "    </tr>\n",
              "    <tr>\n",
              "      <th>Item_Type</th>\n",
              "      <th></th>\n",
              "    </tr>\n",
              "  </thead>\n",
              "  <tbody>\n",
              "    <tr>\n",
              "      <th>Baking Goods</th>\n",
              "      <td>536</td>\n",
              "    </tr>\n",
              "    <tr>\n",
              "      <th>Breads</th>\n",
              "      <td>204</td>\n",
              "    </tr>\n",
              "    <tr>\n",
              "      <th>Breakfast</th>\n",
              "      <td>89</td>\n",
              "    </tr>\n",
              "    <tr>\n",
              "      <th>Canned</th>\n",
              "      <td>539</td>\n",
              "    </tr>\n",
              "    <tr>\n",
              "      <th>Dairy</th>\n",
              "      <td>566</td>\n",
              "    </tr>\n",
              "    <tr>\n",
              "      <th>Frozen Foods</th>\n",
              "      <td>718</td>\n",
              "    </tr>\n",
              "    <tr>\n",
              "      <th>Fruits and Vegetables</th>\n",
              "      <td>1019</td>\n",
              "    </tr>\n",
              "    <tr>\n",
              "      <th>Hard Drinks</th>\n",
              "      <td>183</td>\n",
              "    </tr>\n",
              "    <tr>\n",
              "      <th>Health and Hygiene</th>\n",
              "      <td>430</td>\n",
              "    </tr>\n",
              "    <tr>\n",
              "      <th>Household</th>\n",
              "      <td>759</td>\n",
              "    </tr>\n",
              "    <tr>\n",
              "      <th>Meat</th>\n",
              "      <td>337</td>\n",
              "    </tr>\n",
              "    <tr>\n",
              "      <th>Others</th>\n",
              "      <td>137</td>\n",
              "    </tr>\n",
              "    <tr>\n",
              "      <th>Seafood</th>\n",
              "      <td>51</td>\n",
              "    </tr>\n",
              "    <tr>\n",
              "      <th>Snack Foods</th>\n",
              "      <td>988</td>\n",
              "    </tr>\n",
              "    <tr>\n",
              "      <th>Soft Drinks</th>\n",
              "      <td>374</td>\n",
              "    </tr>\n",
              "    <tr>\n",
              "      <th>Starchy Foods</th>\n",
              "      <td>130</td>\n",
              "    </tr>\n",
              "  </tbody>\n",
              "</table>\n",
              "</div>"
            ],
            "text/plain": [
              "                       Item_Fat_Content\n",
              "Item_Type                              \n",
              "Baking Goods                        536\n",
              "Breads                              204\n",
              "Breakfast                            89\n",
              "Canned                              539\n",
              "Dairy                               566\n",
              "Frozen Foods                        718\n",
              "Fruits and Vegetables              1019\n",
              "Hard Drinks                         183\n",
              "Health and Hygiene                  430\n",
              "Household                           759\n",
              "Meat                                337\n",
              "Others                              137\n",
              "Seafood                              51\n",
              "Snack Foods                         988\n",
              "Soft Drinks                         374\n",
              "Starchy Foods                       130"
            ]
          },
          "metadata": {
            "tags": []
          },
          "execution_count": 49
        }
      ]
    },
    {
      "cell_type": "code",
      "metadata": {
        "colab": {
          "base_uri": "https://localhost:8080/",
          "height": 576
        },
        "id": "I_aHH9KXyytn",
        "outputId": "85b2e331-6172-4eaf-d8e3-8cc8037265d7"
      },
      "source": [
        "df.groupby('Item_Type')[['Item_Outlet_Sales']].sum()"
      ],
      "execution_count": 50,
      "outputs": [
        {
          "output_type": "execute_result",
          "data": {
            "text/html": [
              "<div>\n",
              "<style scoped>\n",
              "    .dataframe tbody tr th:only-of-type {\n",
              "        vertical-align: middle;\n",
              "    }\n",
              "\n",
              "    .dataframe tbody tr th {\n",
              "        vertical-align: top;\n",
              "    }\n",
              "\n",
              "    .dataframe thead th {\n",
              "        text-align: right;\n",
              "    }\n",
              "</style>\n",
              "<table border=\"1\" class=\"dataframe\">\n",
              "  <thead>\n",
              "    <tr style=\"text-align: right;\">\n",
              "      <th></th>\n",
              "      <th>Item_Outlet_Sales</th>\n",
              "    </tr>\n",
              "    <tr>\n",
              "      <th>Item_Type</th>\n",
              "      <th></th>\n",
              "    </tr>\n",
              "  </thead>\n",
              "  <tbody>\n",
              "    <tr>\n",
              "      <th>Baking Goods</th>\n",
              "      <td>1.027220e+06</td>\n",
              "    </tr>\n",
              "    <tr>\n",
              "      <th>Breads</th>\n",
              "      <td>4.377708e+05</td>\n",
              "    </tr>\n",
              "    <tr>\n",
              "      <th>Breakfast</th>\n",
              "      <td>1.781042e+05</td>\n",
              "    </tr>\n",
              "    <tr>\n",
              "      <th>Canned</th>\n",
              "      <td>1.155262e+06</td>\n",
              "    </tr>\n",
              "    <tr>\n",
              "      <th>Dairy</th>\n",
              "      <td>1.244133e+06</td>\n",
              "    </tr>\n",
              "    <tr>\n",
              "      <th>Frozen Foods</th>\n",
              "      <td>1.494210e+06</td>\n",
              "    </tr>\n",
              "    <tr>\n",
              "      <th>Fruits and Vegetables</th>\n",
              "      <td>2.219978e+06</td>\n",
              "    </tr>\n",
              "    <tr>\n",
              "      <th>Hard Drinks</th>\n",
              "      <td>3.770672e+05</td>\n",
              "    </tr>\n",
              "    <tr>\n",
              "      <th>Health and Hygiene</th>\n",
              "      <td>8.351709e+05</td>\n",
              "    </tr>\n",
              "    <tr>\n",
              "      <th>Household</th>\n",
              "      <td>1.659037e+06</td>\n",
              "    </tr>\n",
              "    <tr>\n",
              "      <th>Meat</th>\n",
              "      <td>6.892814e+05</td>\n",
              "    </tr>\n",
              "    <tr>\n",
              "      <th>Others</th>\n",
              "      <td>2.804816e+05</td>\n",
              "    </tr>\n",
              "    <tr>\n",
              "      <th>Seafood</th>\n",
              "      <td>1.287218e+05</td>\n",
              "    </tr>\n",
              "    <tr>\n",
              "      <th>Snack Foods</th>\n",
              "      <td>2.194045e+06</td>\n",
              "    </tr>\n",
              "    <tr>\n",
              "      <th>Soft Drinks</th>\n",
              "      <td>7.359620e+05</td>\n",
              "    </tr>\n",
              "    <tr>\n",
              "      <th>Starchy Foods</th>\n",
              "      <td>3.010628e+05</td>\n",
              "    </tr>\n",
              "  </tbody>\n",
              "</table>\n",
              "</div>"
            ],
            "text/plain": [
              "                       Item_Outlet_Sales\n",
              "Item_Type                               \n",
              "Baking Goods                1.027220e+06\n",
              "Breads                      4.377708e+05\n",
              "Breakfast                   1.781042e+05\n",
              "Canned                      1.155262e+06\n",
              "Dairy                       1.244133e+06\n",
              "Frozen Foods                1.494210e+06\n",
              "Fruits and Vegetables       2.219978e+06\n",
              "Hard Drinks                 3.770672e+05\n",
              "Health and Hygiene          8.351709e+05\n",
              "Household                   1.659037e+06\n",
              "Meat                        6.892814e+05\n",
              "Others                      2.804816e+05\n",
              "Seafood                     1.287218e+05\n",
              "Snack Foods                 2.194045e+06\n",
              "Soft Drinks                 7.359620e+05\n",
              "Starchy Foods               3.010628e+05"
            ]
          },
          "metadata": {
            "tags": []
          },
          "execution_count": 50
        }
      ]
    },
    {
      "cell_type": "code",
      "metadata": {
        "colab": {
          "base_uri": "https://localhost:8080/",
          "height": 698
        },
        "id": "noUTH2RT2WmX",
        "outputId": "a6d6065e-0191-4a1a-937d-1baf552855d7"
      },
      "source": [
        "df['Item_Weight'] = df['Item_Weight'].fillna(method='bfill')\n",
        "df.groupby('Item_Type')[['Item_Weight']].sum()"
      ],
      "execution_count": 51,
      "outputs": [
        {
          "output_type": "stream",
          "text": [
            "/usr/local/lib/python3.7/dist-packages/ipykernel_launcher.py:1: SettingWithCopyWarning: \n",
            "A value is trying to be set on a copy of a slice from a DataFrame.\n",
            "Try using .loc[row_indexer,col_indexer] = value instead\n",
            "\n",
            "See the caveats in the documentation: https://pandas.pydata.org/pandas-docs/stable/user_guide/indexing.html#returning-a-view-versus-a-copy\n",
            "  \"\"\"Entry point for launching an IPython kernel.\n"
          ],
          "name": "stderr"
        },
        {
          "output_type": "execute_result",
          "data": {
            "text/html": [
              "<div>\n",
              "<style scoped>\n",
              "    .dataframe tbody tr th:only-of-type {\n",
              "        vertical-align: middle;\n",
              "    }\n",
              "\n",
              "    .dataframe tbody tr th {\n",
              "        vertical-align: top;\n",
              "    }\n",
              "\n",
              "    .dataframe thead th {\n",
              "        text-align: right;\n",
              "    }\n",
              "</style>\n",
              "<table border=\"1\" class=\"dataframe\">\n",
              "  <thead>\n",
              "    <tr style=\"text-align: right;\">\n",
              "      <th></th>\n",
              "      <th>Item_Weight</th>\n",
              "    </tr>\n",
              "    <tr>\n",
              "      <th>Item_Type</th>\n",
              "      <th></th>\n",
              "    </tr>\n",
              "  </thead>\n",
              "  <tbody>\n",
              "    <tr>\n",
              "      <th>Baking Goods</th>\n",
              "      <td>6580.530</td>\n",
              "    </tr>\n",
              "    <tr>\n",
              "      <th>Breads</th>\n",
              "      <td>2314.775</td>\n",
              "    </tr>\n",
              "    <tr>\n",
              "      <th>Breakfast</th>\n",
              "      <td>1136.370</td>\n",
              "    </tr>\n",
              "    <tr>\n",
              "      <th>Canned</th>\n",
              "      <td>6632.775</td>\n",
              "    </tr>\n",
              "    <tr>\n",
              "      <th>Dairy</th>\n",
              "      <td>7599.155</td>\n",
              "    </tr>\n",
              "    <tr>\n",
              "      <th>Frozen Foods</th>\n",
              "      <td>9238.550</td>\n",
              "    </tr>\n",
              "    <tr>\n",
              "      <th>Fruits and Vegetables</th>\n",
              "      <td>13476.040</td>\n",
              "    </tr>\n",
              "    <tr>\n",
              "      <th>Hard Drinks</th>\n",
              "      <td>2086.260</td>\n",
              "    </tr>\n",
              "    <tr>\n",
              "      <th>Health and Hygiene</th>\n",
              "      <td>5651.195</td>\n",
              "    </tr>\n",
              "    <tr>\n",
              "      <th>Household</th>\n",
              "      <td>10159.015</td>\n",
              "    </tr>\n",
              "    <tr>\n",
              "      <th>Meat</th>\n",
              "      <td>4319.445</td>\n",
              "    </tr>\n",
              "    <tr>\n",
              "      <th>Others</th>\n",
              "      <td>1897.900</td>\n",
              "    </tr>\n",
              "    <tr>\n",
              "      <th>Seafood</th>\n",
              "      <td>640.195</td>\n",
              "    </tr>\n",
              "    <tr>\n",
              "      <th>Snack Foods</th>\n",
              "      <td>12832.025</td>\n",
              "    </tr>\n",
              "    <tr>\n",
              "      <th>Soft Drinks</th>\n",
              "      <td>4430.950</td>\n",
              "    </tr>\n",
              "    <tr>\n",
              "      <th>Starchy Foods</th>\n",
              "      <td>1779.795</td>\n",
              "    </tr>\n",
              "  </tbody>\n",
              "</table>\n",
              "</div>"
            ],
            "text/plain": [
              "                       Item_Weight\n",
              "Item_Type                         \n",
              "Baking Goods              6580.530\n",
              "Breads                    2314.775\n",
              "Breakfast                 1136.370\n",
              "Canned                    6632.775\n",
              "Dairy                     7599.155\n",
              "Frozen Foods              9238.550\n",
              "Fruits and Vegetables    13476.040\n",
              "Hard Drinks               2086.260\n",
              "Health and Hygiene        5651.195\n",
              "Household                10159.015\n",
              "Meat                      4319.445\n",
              "Others                    1897.900\n",
              "Seafood                    640.195\n",
              "Snack Foods              12832.025\n",
              "Soft Drinks               4430.950\n",
              "Starchy Foods             1779.795"
            ]
          },
          "metadata": {
            "tags": []
          },
          "execution_count": 51
        }
      ]
    },
    {
      "cell_type": "code",
      "metadata": {
        "colab": {
          "base_uri": "https://localhost:8080/"
        },
        "id": "84TkzX544Xr7",
        "outputId": "dae5099d-7196-4517-8e08-df7f2475c9ea"
      },
      "source": [
        "df.info()"
      ],
      "execution_count": 52,
      "outputs": [
        {
          "output_type": "stream",
          "text": [
            "<class 'pandas.core.frame.DataFrame'>\n",
            "Index: 7060 entries, FDA15 to DRG01\n",
            "Data columns (total 11 columns):\n",
            " #   Column                     Non-Null Count  Dtype  \n",
            "---  ------                     --------------  -----  \n",
            " 0   Item_Weight                7060 non-null   float64\n",
            " 1   Item_Fat_Content           7060 non-null   object \n",
            " 2   Item_Visibility            7060 non-null   float64\n",
            " 3   Item_Type                  7060 non-null   object \n",
            " 4   Item_MRP                   7060 non-null   float64\n",
            " 5   Outlet_Identifier          7060 non-null   object \n",
            " 6   Outlet_Establishment_Year  7060 non-null   int64  \n",
            " 7   Outlet_Size                7060 non-null   object \n",
            " 8   Outlet_Location_Type       7060 non-null   object \n",
            " 9   Outlet_Type                7060 non-null   object \n",
            " 10  Item_Outlet_Sales          7060 non-null   float64\n",
            "dtypes: float64(4), int64(1), object(6)\n",
            "memory usage: 661.9+ KB\n"
          ],
          "name": "stdout"
        }
      ]
    },
    {
      "cell_type": "code",
      "metadata": {
        "id": "M2rxXSRhtJHZ"
      },
      "source": [
        "x1 = list(df['Item_Type'].unique())\n",
        "y1 = list(df.groupby('Item_Type')[['Item_Fat_Content']].count()['Item_Fat_Content'])"
      ],
      "execution_count": 53,
      "outputs": []
    },
    {
      "cell_type": "code",
      "metadata": {
        "id": "wrYKsEHMxsDN"
      },
      "source": [
        "y2 = list(df.groupby('Item_Type')[['Item_Outlet_Sales']].sum()['Item_Outlet_Sales'])"
      ],
      "execution_count": 54,
      "outputs": []
    },
    {
      "cell_type": "code",
      "metadata": {
        "id": "CAhA9mY92Yuz"
      },
      "source": [
        "y3 = list(df.groupby('Item_Type')[['Item_Weight']].sum()['Item_Weight'])"
      ],
      "execution_count": 55,
      "outputs": []
    },
    {
      "cell_type": "code",
      "metadata": {
        "colab": {
          "base_uri": "https://localhost:8080/",
          "height": 346
        },
        "id": "kQPppXrxs-2z",
        "outputId": "c86904c1-1dd4-4a2c-e957-d037c5e1d751"
      },
      "source": [
        "plt.figure(figsize=(16,6))\n",
        "plt.style.use('seaborn')\n",
        "# Subplot 1 \n",
        "plt.subplot(1, 3, 1);\n",
        "# plt.plot(x1, y1, c = 'r');\n",
        "sns.barplot(x = x1, y = y1);\n",
        "plt.xticks(rotation = 90)\n",
        "plt.title('Fat Content Count per Item Type', fontsize = 12);\n",
        "plt.xlabel('Item_Type', fontsize=14);\n",
        "plt.ylabel('Number of Fat Content Type', fontsize=14);\n",
        "\n",
        "# Subplot 2\n",
        "plt.subplot(1, 3, 2);\n",
        "plt.plot(x1, y2, c = 'r');\n",
        "plt.xticks(rotation = 90)\n",
        "plt.xlabel('Item_Type', fontsize=14);\n",
        "plt.ylabel('Item_Outlet_Sales in Million', fontsize=14);\n",
        "plt.title('Item Outlet Sales per Type', fontsize = 12);\n",
        "\n",
        "# Subplot 3\n",
        "plt.subplot(1, 3, 3);\n",
        "plt.plot(x1, y3, c = 'r');\n",
        "plt.xticks(rotation = 90)\n",
        "plt.xlabel('Item_Type', fontsize=14);\n",
        "plt.ylabel('Item_Weight', fontsize=14);\n",
        "plt.title('Item Weight per Type', fontsize = 12);\n"
      ],
      "execution_count": 56,
      "outputs": [
        {
          "output_type": "display_data",
          "data": {
            "image/png": "[encoded data removed]",
            "text/plain": [
              "<Figure size 1152x432 with 3 Axes>"
            ]
          },
          "metadata": {
            "tags": []
          }
        }
      ]
    },
    {
      "cell_type": "markdown",
      "metadata": {
        "id": "_DIWAvc-8WKJ"
      },
      "source": [
        "Snack Foods has the more Fat Content Type, Higher sales rates."
      ]
    },
    {
      "cell_type": "code",
      "metadata": {
        "colab": {
          "base_uri": "https://localhost:8080/",
          "height": 328
        },
        "id": "jiLTvOs5qLU9",
        "outputId": "38f90042-6527-4a84-f2b6-61f8da0b7ebd"
      },
      "source": [
        "df.groupby('Outlet_Establishment_Year')[['Outlet_Identifier']].count()"
      ],
      "execution_count": 57,
      "outputs": [
        {
          "output_type": "execute_result",
          "data": {
            "text/html": [
              "<div>\n",
              "<style scoped>\n",
              "    .dataframe tbody tr th:only-of-type {\n",
              "        vertical-align: middle;\n",
              "    }\n",
              "\n",
              "    .dataframe tbody tr th {\n",
              "        vertical-align: top;\n",
              "    }\n",
              "\n",
              "    .dataframe thead th {\n",
              "        text-align: right;\n",
              "    }\n",
              "</style>\n",
              "<table border=\"1\" class=\"dataframe\">\n",
              "  <thead>\n",
              "    <tr style=\"text-align: right;\">\n",
              "      <th></th>\n",
              "      <th>Outlet_Identifier</th>\n",
              "    </tr>\n",
              "    <tr>\n",
              "      <th>Outlet_Establishment_Year</th>\n",
              "      <th></th>\n",
              "    </tr>\n",
              "  </thead>\n",
              "  <tbody>\n",
              "    <tr>\n",
              "      <th>1987</th>\n",
              "      <td>932</td>\n",
              "    </tr>\n",
              "    <tr>\n",
              "      <th>1997</th>\n",
              "      <td>930</td>\n",
              "    </tr>\n",
              "    <tr>\n",
              "      <th>1998</th>\n",
              "      <td>555</td>\n",
              "    </tr>\n",
              "    <tr>\n",
              "      <th>1999</th>\n",
              "      <td>930</td>\n",
              "    </tr>\n",
              "    <tr>\n",
              "      <th>2002</th>\n",
              "      <td>929</td>\n",
              "    </tr>\n",
              "    <tr>\n",
              "      <th>2004</th>\n",
              "      <td>930</td>\n",
              "    </tr>\n",
              "    <tr>\n",
              "      <th>2007</th>\n",
              "      <td>926</td>\n",
              "    </tr>\n",
              "    <tr>\n",
              "      <th>2009</th>\n",
              "      <td>928</td>\n",
              "    </tr>\n",
              "  </tbody>\n",
              "</table>\n",
              "</div>"
            ],
            "text/plain": [
              "                           Outlet_Identifier\n",
              "Outlet_Establishment_Year                   \n",
              "1987                                     932\n",
              "1997                                     930\n",
              "1998                                     555\n",
              "1999                                     930\n",
              "2002                                     929\n",
              "2004                                     930\n",
              "2007                                     926\n",
              "2009                                     928"
            ]
          },
          "metadata": {
            "tags": []
          },
          "execution_count": 57
        }
      ]
    },
    {
      "cell_type": "code",
      "metadata": {
        "colab": {
          "base_uri": "https://localhost:8080/",
          "height": 392
        },
        "id": "GHQjILWfzkbx",
        "outputId": "8f06515f-e9c3-4bf5-b581-63791806a06a"
      },
      "source": [
        "dy = df.groupby('Outlet_Establishment_Year')[['Outlet_Identifier']].count()\n",
        "year = df['Outlet_Establishment_Year'].sort_values().unique()\n",
        "outlet = list(dy['Outlet_Identifier'])\n",
        "\n",
        "plt.style.use('seaborn')\n",
        "# Subplot 2\n",
        "plt.subplot(1, 2, 2);\n",
        "plt.plot(year, outlet, c = 'r');\n",
        "plt.xticks(rotation = 90)\n",
        "plt.xlabel('Year', fontsize=14);\n",
        "plt.ylabel('Outlet_Identifier', fontsize=14);\n",
        "plt.xlim(left=1985,right=2010)\n",
        "plt.ylim(bottom=0,top=1800)\n",
        "\n",
        "plt.title('Count of Outlet', fontsize = 12);\n"
      ],
      "execution_count": 58,
      "outputs": [
        {
          "output_type": "display_data",
          "data": {
            "image/png": "[encoded data removed]",
            "text/plain": [
              "<Figure size 576x396 with 1 Axes>"
            ]
          },
          "metadata": {
            "tags": []
          }
        }
      ]
    },
    {
      "cell_type": "code",
      "metadata": {
        "colab": {
          "base_uri": "https://localhost:8080/"
        },
        "id": "NGU-N9qYrA69",
        "outputId": "85698e0a-a35d-4d2c-9abb-fd7bd29d2e11"
      },
      "source": [
        "df.groupby('Item_Type')['Item_Visibility'].mean()"
      ],
      "execution_count": 59,
      "outputs": [
        {
          "output_type": "execute_result",
          "data": {
            "text/plain": [
              "Item_Type\n",
              "Baking Goods             0.066807\n",
              "Breads                   0.064834\n",
              "Breakfast                0.081250\n",
              "Canned                   0.067316\n",
              "Dairy                    0.069207\n",
              "Frozen Foods             0.063955\n",
              "Fruits and Vegetables    0.065985\n",
              "Hard Drinks              0.064988\n",
              "Health and Hygiene       0.054000\n",
              "Household                0.059113\n",
              "Meat                     0.059300\n",
              "Others                   0.056643\n",
              "Seafood                  0.069714\n",
              "Snack Foods              0.064351\n",
              "Soft Drinks              0.061290\n",
              "Starchy Foods            0.068639\n",
              "Name: Item_Visibility, dtype: float64"
            ]
          },
          "metadata": {
            "tags": []
          },
          "execution_count": 59
        }
      ]
    },
    {
      "cell_type": "code",
      "metadata": {
        "colab": {
          "base_uri": "https://localhost:8080/",
          "height": 347
        },
        "id": "yZmQ8e_M4eFC",
        "outputId": "08932bdd-9323-4cfe-ad05-71a95e81180d"
      },
      "source": [
        "df.groupby('Item_Type')['Item_Visibility'].mean().hist();"
      ],
      "execution_count": 60,
      "outputs": [
        {
          "output_type": "display_data",
          "data": {
            "image/png": "[encoded data removed]",
            "text/plain": [
              "<Figure size 576x396 with 1 Axes>"
            ]
          },
          "metadata": {
            "tags": []
          }
        }
      ]
    },
    {
      "cell_type": "code",
      "metadata": {
        "colab": {
          "base_uri": "https://localhost:8080/",
          "height": 173
        },
        "id": "G-GHY2ve5TMp",
        "outputId": "f06748f6-5ebf-4ecb-950f-a02a7b8c7011"
      },
      "source": [
        "df.groupby('Outlet_Type')[['Item_Outlet_Sales']].sum()"
      ],
      "execution_count": 61,
      "outputs": [
        {
          "output_type": "execute_result",
          "data": {
            "text/html": [
              "<div>\n",
              "<style scoped>\n",
              "    .dataframe tbody tr th:only-of-type {\n",
              "        vertical-align: middle;\n",
              "    }\n",
              "\n",
              "    .dataframe tbody tr th {\n",
              "        vertical-align: top;\n",
              "    }\n",
              "\n",
              "    .dataframe thead th {\n",
              "        text-align: right;\n",
              "    }\n",
              "</style>\n",
              "<table border=\"1\" class=\"dataframe\">\n",
              "  <thead>\n",
              "    <tr style=\"text-align: right;\">\n",
              "      <th></th>\n",
              "      <th>Item_Outlet_Sales</th>\n",
              "    </tr>\n",
              "    <tr>\n",
              "      <th>Outlet_Type</th>\n",
              "      <th></th>\n",
              "    </tr>\n",
              "  </thead>\n",
              "  <tbody>\n",
              "    <tr>\n",
              "      <th>Grocery Store</th>\n",
              "      <td>1.883402e+05</td>\n",
              "    </tr>\n",
              "    <tr>\n",
              "      <th>Supermarket Type1</th>\n",
              "      <td>1.291734e+07</td>\n",
              "    </tr>\n",
              "    <tr>\n",
              "      <th>Supermarket Type2</th>\n",
              "      <td>1.851823e+06</td>\n",
              "    </tr>\n",
              "  </tbody>\n",
              "</table>\n",
              "</div>"
            ],
            "text/plain": [
              "                   Item_Outlet_Sales\n",
              "Outlet_Type                         \n",
              "Grocery Store           1.883402e+05\n",
              "Supermarket Type1       1.291734e+07\n",
              "Supermarket Type2       1.851823e+06"
            ]
          },
          "metadata": {
            "tags": []
          },
          "execution_count": 61
        }
      ]
    },
    {
      "cell_type": "code",
      "metadata": {
        "colab": {
          "base_uri": "https://localhost:8080/",
          "height": 438
        },
        "id": "wjdgpBwf53_Z",
        "outputId": "29148773-669d-402c-9f99-ed4a609ea952"
      },
      "source": [
        "outlet_type = list(df['Outlet_Type'].sort_values().unique())\n",
        "outlet_sales = list(df.groupby('Outlet_Type')[['Item_Outlet_Sales']].sum()['Item_Outlet_Sales'])\n",
        "\n",
        "sns.barplot(x = outlet_type, y = outlet_sales);\n",
        "plt.xticks(rotation = 45)\n",
        "plt.title('Outlet Type Sales', fontsize = 12);\n",
        "plt.xlabel('Outlet Type', fontsize=14);\n",
        "plt.ylabel('Item Outlet Sales', fontsize=14);"
      ],
      "execution_count": 62,
      "outputs": [
        {
          "output_type": "display_data",
          "data": {
            "image/png": "[encoded data removed]",
            "text/plain": [
              "<Figure size 576x396 with 1 Axes>"
            ]
          },
          "metadata": {
            "tags": []
          }
        }
      ]
    },
    {
      "cell_type": "markdown",
      "metadata": {
        "id": "msRi3X7j8BDn"
      },
      "source": [
        "Supermarket Type1 sells more items than other stores and supermarkets."
      ]
    },
    {
      "cell_type": "code",
      "metadata": {
        "colab": {
          "base_uri": "https://localhost:8080/",
          "height": 462
        },
        "id": "5-A-u04H_Hsy",
        "outputId": "e299e1fe-627d-436e-b456-1c69b970b487"
      },
      "source": [
        "corr = df.corr()\n",
        "\n",
        "import seaborn as sns\n",
        "sns.heatmap(corr, cmap = 'Greens');"
      ],
      "execution_count": 63,
      "outputs": [
        {
          "output_type": "display_data",
          "data": {
            "image/png": "[encoded data removed]",
            "text/plain": [
              "<Figure size 576x396 with 2 Axes>"
            ]
          },
          "metadata": {
            "tags": []
          }
        }
      ]
    },
    {
      "cell_type": "code",
      "metadata": {
        "id": "oTn-WHAcgf45",
        "colab": {
          "base_uri": "https://localhost:8080/"
        },
        "outputId": "27661736-23d2-48bb-c54b-201a7fb1c48f"
      },
      "source": [
        "df.info()"
      ],
      "execution_count": 150,
      "outputs": [
        {
          "output_type": "stream",
          "text": [
            "<class 'pandas.core.frame.DataFrame'>\n",
            "Index: 7060 entries, FDA15 to DRG01\n",
            "Data columns (total 11 columns):\n",
            " #   Column                     Non-Null Count  Dtype  \n",
            "---  ------                     --------------  -----  \n",
            " 0   Item_Weight                7060 non-null   float64\n",
            " 1   Item_Fat_Content           7060 non-null   object \n",
            " 2   Item_Visibility            7060 non-null   float64\n",
            " 3   Item_Type                  7060 non-null   object \n",
            " 4   Item_MRP                   7060 non-null   float64\n",
            " 5   Outlet_Identifier          7060 non-null   object \n",
            " 6   Outlet_Establishment_Year  7060 non-null   int64  \n",
            " 7   Outlet_Size                7060 non-null   object \n",
            " 8   Outlet_Location_Type       7060 non-null   object \n",
            " 9   Outlet_Type                7060 non-null   object \n",
            " 10  Item_Outlet_Sales          7060 non-null   float64\n",
            "dtypes: float64(4), int64(1), object(6)\n",
            "memory usage: 661.9+ KB\n"
          ],
          "name": "stdout"
        }
      ]
    },
    {
      "cell_type": "code",
      "metadata": {
        "id": "eXA9MzmgZ66B"
      },
      "source": [
        "# For scaling data\n",
        "from sklearn.preprocessing import StandardScaler\n",
        "from sklearn.datasets import load_iris\n",
        "from sklearn.neighbors import KNeighborsClassifier\n",
        "from sklearn.linear_model import LinearRegression"
      ],
      "execution_count": 174,
      "outputs": []
    },
    {
      "cell_type": "code",
      "metadata": {
        "colab": {
          "base_uri": "https://localhost:8080/"
        },
        "id": "rZHQNqhvbBrD",
        "outputId": "f01b3b62-9a1d-475a-bc90-9779c9360d7c"
      },
      "source": [
        "# Dummy Coding Scheme\n",
        "cols = [ 'Item_Weight', 'Item_Fat_Content', 'Item_Visibility', 'Item_Type', 'Item_MRP', 'Outlet_Identifier', 'Outlet_Establishment_Year', 'Outlet_Size', 'Outlet_Location_Type', 'Outlet_Type', 'Item_Outlet_Sales' ]\n",
        "outlet_location_type = pd.get_dummies(df['Outlet_Location_Type'])\n",
        "outlet_type = pd.get_dummies(df['Outlet_Type'])\n",
        "outlet_size = pd.get_dummies(df['Outlet_Size'])\n",
        "df = pd.concat([df[cols], outlet_size, outlet_location_type, outlet_type], axis=1)\n",
        "df.info()"
      ],
      "execution_count": 155,
      "outputs": [
        {
          "output_type": "stream",
          "text": [
            "<class 'pandas.core.frame.DataFrame'>\n",
            "Index: 7060 entries, FDA15 to DRG01\n",
            "Data columns (total 20 columns):\n",
            " #   Column                     Non-Null Count  Dtype  \n",
            "---  ------                     --------------  -----  \n",
            " 0   Item_Weight                7060 non-null   float64\n",
            " 1   Item_Fat_Content           7060 non-null   object \n",
            " 2   Item_Visibility            7060 non-null   float64\n",
            " 3   Item_Type                  7060 non-null   object \n",
            " 4   Item_MRP                   7060 non-null   float64\n",
            " 5   Outlet_Identifier          7060 non-null   object \n",
            " 6   Outlet_Establishment_Year  7060 non-null   int64  \n",
            " 7   Outlet_Size                7060 non-null   object \n",
            " 8   Outlet_Location_Type       7060 non-null   object \n",
            " 9   Outlet_Type                7060 non-null   object \n",
            " 10  Item_Outlet_Sales          7060 non-null   float64\n",
            " 11  High                       7060 non-null   uint8  \n",
            " 12  Medium                     7060 non-null   uint8  \n",
            " 13  Small                      7060 non-null   uint8  \n",
            " 14  Tier 1                     7060 non-null   uint8  \n",
            " 15  Tier 2                     7060 non-null   uint8  \n",
            " 16  Tier 3                     7060 non-null   uint8  \n",
            " 17  Grocery Store              7060 non-null   uint8  \n",
            " 18  Supermarket Type1          7060 non-null   uint8  \n",
            " 19  Supermarket Type2          7060 non-null   uint8  \n",
            "dtypes: float64(4), int64(1), object(6), uint8(9)\n",
            "memory usage: 723.9+ KB\n"
          ],
          "name": "stdout"
        }
      ]
    },
    {
      "cell_type": "code",
      "metadata": {
        "id": "qwGUvrMdlMGE"
      },
      "source": [
        "df['Item_Outlet_Sales'] = df['Item_Outlet_Sales'].round(2)"
      ],
      "execution_count": 169,
      "outputs": []
    },
    {
      "cell_type": "code",
      "metadata": {
        "colab": {
          "base_uri": "https://localhost:8080/"
        },
        "id": "nLPv-uQSfVa8",
        "outputId": "ffa38962-1937-4d7b-ea84-e927aec1d621"
      },
      "source": [
        "# Combined, (Outlet_Type, Outlet_Size, Outlet_Location_Type)\n",
        "act_cols = ['High', 'Medium', 'Small', 'Tier 1', 'Tier 2', 'Tier 3', 'Grocery Store', 'Supermarket Type1', 'Supermarket Type2']\n",
        "X = df.loc[:, act_cols]\n",
        "X.shape"
      ],
      "execution_count": 156,
      "outputs": [
        {
          "output_type": "execute_result",
          "data": {
            "text/plain": [
              "(7060, 9)"
            ]
          },
          "metadata": {
            "tags": []
          },
          "execution_count": 156
        }
      ]
    },
    {
      "cell_type": "code",
      "metadata": {
        "colab": {
          "base_uri": "https://localhost:8080/"
        },
        "id": "m_pffuFSii70",
        "outputId": "580d96ec-5124-4f55-c977-ca5719f85c00"
      },
      "source": [
        "y = df.loc[:, 'Item_Outlet_Sales'].values\n",
        "y.shape"
      ],
      "execution_count": 170,
      "outputs": [
        {
          "output_type": "execute_result",
          "data": {
            "text/plain": [
              "(7060,)"
            ]
          },
          "metadata": {
            "tags": []
          },
          "execution_count": 170
        }
      ]
    },
    {
      "cell_type": "code",
      "metadata": {
        "colab": {
          "base_uri": "https://localhost:8080/"
        },
        "id": "qfZvVhGMjr4J",
        "outputId": "e52c53ff-c187-4f77-c88c-cb0e62c015a0"
      },
      "source": [
        "# Make a linear regression instance\n",
        "reg = LinearRegression()\n",
        "reg.fit(X,y)"
      ],
      "execution_count": 175,
      "outputs": [
        {
          "output_type": "execute_result",
          "data": {
            "text/plain": [
              "LinearRegression(copy_X=True, fit_intercept=True, n_jobs=None, normalize=False)"
            ]
          },
          "metadata": {
            "tags": []
          },
          "execution_count": 175
        }
      ]
    },
    {
      "cell_type": "code",
      "metadata": {
        "colab": {
          "base_uri": "https://localhost:8080/"
        },
        "id": "ajImQKmMj_3q",
        "outputId": "cbcafd50-3b2b-4ac8-d2b1-25d93af1224e"
      },
      "source": [
        "reg.predict(X)"
      ],
      "execution_count": 176,
      "outputs": [
        {
          "output_type": "execute_result",
          "data": {
            "text/plain": [
              "array([2285.8099631 , 2047.3099631 , 2285.8099631 , ..., 2340.3099631 ,\n",
              "       2047.95037768, 2287.91075094])"
            ]
          },
          "metadata": {
            "tags": []
          },
          "execution_count": 176
        }
      ]
    },
    {
      "cell_type": "code",
      "metadata": {
        "colab": {
          "base_uri": "https://localhost:8080/"
        },
        "id": "8UDx2ylckC58",
        "outputId": "db6c2ac8-d7a2-4079-fa26-bba91948e5e7"
      },
      "source": [
        "# Measuring Model Performance\n",
        "score = reg.score(X,y)\n",
        "print(score)"
      ],
      "execution_count": 178,
      "outputs": [
        {
          "output_type": "stream",
          "text": [
            "0.11982722158007685\n"
          ],
          "name": "stdout"
        }
      ]
    },
    {
      "cell_type": "code",
      "metadata": {
        "colab": {
          "base_uri": "https://localhost:8080/"
        },
        "id": "0j1HIMkYnYch",
        "outputId": "5a705843-f064-41c2-83bb-b87d9649de7c"
      },
      "source": [
        "# Based on Outlet_Type\n",
        "outlettype_cols = ['Grocery Store', 'Supermarket Type1', 'Supermarket Type2']\n",
        "X = df.loc[:, outlettype_cols].values\n",
        "X.shape"
      ],
      "execution_count": 192,
      "outputs": [
        {
          "output_type": "execute_result",
          "data": {
            "text/plain": [
              "(7060, 3)"
            ]
          },
          "metadata": {
            "tags": []
          },
          "execution_count": 192
        }
      ]
    },
    {
      "cell_type": "code",
      "metadata": {
        "colab": {
          "base_uri": "https://localhost:8080/"
        },
        "id": "gGAdt0HonoaS",
        "outputId": "5ff00ddf-5620-480c-e314-a69edf661f6b"
      },
      "source": [
        "reg = LinearRegression()\n",
        "reg.fit(X,y)"
      ],
      "execution_count": 193,
      "outputs": [
        {
          "output_type": "execute_result",
          "data": {
            "text/plain": [
              "LinearRegression(copy_X=True, fit_intercept=True, n_jobs=None, normalize=False)"
            ]
          },
          "metadata": {
            "tags": []
          },
          "execution_count": 193
        }
      ]
    },
    {
      "cell_type": "code",
      "metadata": {
        "colab": {
          "base_uri": "https://localhost:8080/"
        },
        "id": "PKPES9zcnoRJ",
        "outputId": "5314dd60-4f65-49db-caa1-39a1b4afff63"
      },
      "source": [
        "score = reg.score(X,y)\n",
        "print(score)"
      ],
      "execution_count": 194,
      "outputs": [
        {
          "output_type": "stream",
          "text": [
            "0.1196066103756077\n"
          ],
          "name": "stdout"
        }
      ]
    },
    {
      "cell_type": "code",
      "metadata": {
        "colab": {
          "base_uri": "https://localhost:8080/"
        },
        "id": "OKTeppZan8-5",
        "outputId": "ba626332-8904-48f6-fc07-270c948976a7"
      },
      "source": [
        "# Based on Outlet_Size\n",
        "outletsize_cols = ['High', 'Medium', 'Small']\n",
        "X = df.loc[:, outletsize_cols].values\n",
        "X.shape"
      ],
      "execution_count": 195,
      "outputs": [
        {
          "output_type": "execute_result",
          "data": {
            "text/plain": [
              "(7060, 3)"
            ]
          },
          "metadata": {
            "tags": []
          },
          "execution_count": 195
        }
      ]
    },
    {
      "cell_type": "code",
      "metadata": {
        "colab": {
          "base_uri": "https://localhost:8080/"
        },
        "id": "r3F6X3fQojEc",
        "outputId": "eda70e5a-74e2-4afc-9946-2fcd939985f2"
      },
      "source": [
        "reg = LinearRegression()\n",
        "reg.fit(X,y)"
      ],
      "execution_count": 196,
      "outputs": [
        {
          "output_type": "execute_result",
          "data": {
            "text/plain": [
              "LinearRegression(copy_X=True, fit_intercept=True, n_jobs=None, normalize=False)"
            ]
          },
          "metadata": {
            "tags": []
          },
          "execution_count": 196
        }
      ]
    },
    {
      "cell_type": "code",
      "metadata": {
        "colab": {
          "base_uri": "https://localhost:8080/"
        },
        "id": "852TClueolUc",
        "outputId": "ea9defd0-93d3-4fcb-d445-e9a109164f62"
      },
      "source": [
        "score = reg.score(X,y)\n",
        "print(score)"
      ],
      "execution_count": 197,
      "outputs": [
        {
          "output_type": "stream",
          "text": [
            "0.0012691306027389215\n"
          ],
          "name": "stdout"
        }
      ]
    },
    {
      "cell_type": "code",
      "metadata": {
        "colab": {
          "base_uri": "https://localhost:8080/"
        },
        "id": "R9rzvPiSo4zv",
        "outputId": "e1e6073d-e5b2-47a8-ed93-051b26972258"
      },
      "source": [
        "# Based on Outlet_Location_Type\n",
        "OLocationType_cols = ['Tier 1', 'Tier 2', 'Tier 3']\n",
        "X = df.loc[:, OLocationType_cols].values\n",
        "X.shape"
      ],
      "execution_count": 198,
      "outputs": [
        {
          "output_type": "execute_result",
          "data": {
            "text/plain": [
              "(7060, 3)"
            ]
          },
          "metadata": {
            "tags": []
          },
          "execution_count": 198
        }
      ]
    },
    {
      "cell_type": "code",
      "metadata": {
        "colab": {
          "base_uri": "https://localhost:8080/"
        },
        "id": "HsCF3fT9pANP",
        "outputId": "65982e6a-8e1f-487b-b9ac-a7293b3a7a80"
      },
      "source": [
        "reg = LinearRegression()\n",
        "reg.fit(X,y)"
      ],
      "execution_count": 199,
      "outputs": [
        {
          "output_type": "execute_result",
          "data": {
            "text/plain": [
              "LinearRegression(copy_X=True, fit_intercept=True, n_jobs=None, normalize=False)"
            ]
          },
          "metadata": {
            "tags": []
          },
          "execution_count": 199
        }
      ]
    },
    {
      "cell_type": "code",
      "metadata": {
        "colab": {
          "base_uri": "https://localhost:8080/"
        },
        "id": "FsseE9bupC-x",
        "outputId": "38d8ef8f-663e-4b19-a047-99a32cbdf7db"
      },
      "source": [
        "score = reg.score(X,y)\n",
        "print(score)"
      ],
      "execution_count": 200,
      "outputs": [
        {
          "output_type": "stream",
          "text": [
            "0.03295783463524482\n"
          ],
          "name": "stdout"
        }
      ]
    }
  ]
}